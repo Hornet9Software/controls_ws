{
 "cells": [
  {
   "cell_type": "code",
   "execution_count": null,
   "metadata": {},
   "outputs": [],
   "source": [
    "from thruster_allocator import thruster_positions, thruster_directions, ThrustAllocator, thrust_map\n",
    "from controls_core.params import IMU_ZERO\n",
    "from attitude_control import AttitudeControl\n",
    "\n",
    "import matplotlib.pyplot as plt\n",
    "import numpy as np\n",
    "import pandas as pd\n",
    "from scipy.integrate import solve_ivp\n",
    "\n",
    "import random\n",
    "\n",
    "%reload_ext autoreload\n",
    "%autoreload 2"
   ]
  },
  {
   "cell_type": "markdown",
   "metadata": {},
   "source": [
    "# Thrust Allocator Test"
   ]
  },
  {
   "cell_type": "markdown",
   "metadata": {},
   "source": [
    "## Thruster Positions and Directions"
   ]
  },
  {
   "cell_type": "code",
   "execution_count": null,
   "metadata": {},
   "outputs": [],
   "source": [
    "%matplotlib qt\n",
    "ax = plt.figure().add_subplot(projection=\"3d\")\n",
    "ax.quiver3D(*thruster_positions.T, *thruster_directions.T, length=0.1)\n",
    "ax.scatter(*(0,0,0))\n",
    "ax.set_aspect('equal')"
   ]
  },
  {
   "cell_type": "markdown",
   "metadata": {},
   "source": [
    "## Movement Test"
   ]
  },
  {
   "cell_type": "markdown",
   "metadata": {},
   "source": [
    "### Thrust Newtons"
   ]
  },
  {
   "cell_type": "code",
   "execution_count": null,
   "metadata": {},
   "outputs": [],
   "source": [
    "%matplotlib qt\n",
    "thrustAllocator = ThrustAllocator()\n",
    "outputThrusts = thrustAllocator.getThrusts(\n",
    "    linear_accelerations = [1.0, 0, 0],\n",
    "    angular_accelerations = [0, 0, 0]\n",
    ")\n",
    "\n",
    "ax = plt.figure().add_subplot(projection=\"3d\")\n",
    "ax.quiver3D(*thruster_positions.T, *(outputThrusts[:, None] * thruster_directions).T, length=0.02)\n",
    "ax.scatter(*(0,0,0))\n",
    "ax.set_aspect('equal')"
   ]
  },
  {
   "cell_type": "markdown",
   "metadata": {},
   "source": [
    "### Thrust PWMs"
   ]
  },
  {
   "cell_type": "code",
   "execution_count": null,
   "metadata": {},
   "outputs": [],
   "source": [
    "pwms = thrustAllocator.getThrustPWMs(\n",
    "    linear_accelerations = [0, 0, -3.0],\n",
    "    angular_accelerations = [0, 0, 0]\n",
    ")\n",
    "\n",
    "pwms[np.array([3, 2, 5, 1, 4, 0])]"
   ]
  },
  {
   "cell_type": "markdown",
   "metadata": {},
   "source": [
    "# Thrust Map"
   ]
  },
  {
   "cell_type": "code",
   "execution_count": null,
   "metadata": {},
   "outputs": [],
   "source": [
    "%matplotlib inline\n",
    "thrust_newtons = thrust_map[:,0]\n",
    "thrust_pwm = thrust_map[:,1]\n",
    "plt.plot(thrust_newtons, thrust_pwm)\n",
    "plt.xlabel(\"thrust_newtons\")\n",
    "plt.ylabel(\"thrust_pwm\")\n",
    "plt.show()\n",
    "plt.plot(thrust_pwm, thrust_newtons)\n",
    "plt.xlabel(\"thrust_pwm\")\n",
    "plt.ylabel(\"thrust_newtons\")\n",
    "plt.show()"
   ]
  },
  {
   "cell_type": "code",
   "execution_count": null,
   "metadata": {},
   "outputs": [],
   "source": [
    "thrust_converted = thrust_map[\n",
    "    np.searchsorted(thrust_pwm, 172, side=\"left\"), 0\n",
    "]\n",
    "thrust_converted"
   ]
  },
  {
   "cell_type": "markdown",
   "metadata": {},
   "source": [
    "# Attitude Control"
   ]
  },
  {
   "cell_type": "code",
   "execution_count": null,
   "metadata": {},
   "outputs": [],
   "source": [
    "time_interval = 0.1\n",
    "\n",
    "startpoint = -np.pi/2\n",
    "\n",
    "attitudeControl = AttitudeControl()\n",
    "\n",
    "def eval_accel(t, u):\n",
    "    y, v = u\n",
    "    thrust = attitudeControl.getAttitudeCorrection(currAttRPY=[0,0,y], targetAttRPY=[0,0,0])[2]\n",
    "    accel = thrust + random.normalvariate(0, 0.1)\n",
    "    return [v, accel]\n",
    "\n",
    "def constrain(val, low, high):\n",
    "    return min(high, max(low, val))\n",
    "\n",
    "t_span = [0,16]\n",
    "\n",
    "sol = solve_ivp(eval_accel, t_span=t_span, y0=[startpoint,0], atol=10, max_step=time_interval)\n",
    "angles = list(map(attitudeControl.boundAngle, sol.y[0]))\n",
    "\n",
    "plt.plot(sol.t, angles)\n",
    "plt.axhline(IMU_ZERO[2], color='k')\n",
    "plt.axhline(IMU_ZERO[2]+0.2, color='r', linestyle='--')\n",
    "plt.axhline(IMU_ZERO[2]-0.2, color='r', linestyle='--')"
   ]
  }
 ],
 "metadata": {
  "kernelspec": {
   "display_name": "Python 3",
   "language": "python",
   "name": "python3"
  },
  "language_info": {
   "codemirror_mode": {
    "name": "ipython",
    "version": 3
   },
   "file_extension": ".py",
   "mimetype": "text/x-python",
   "name": "python",
   "nbconvert_exporter": "python",
   "pygments_lexer": "ipython3",
   "version": "3.10.12"
  }
 },
 "nbformat": 4,
 "nbformat_minor": 2
}
