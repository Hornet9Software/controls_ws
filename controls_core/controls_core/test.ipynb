{
 "cells": [
  {
   "cell_type": "code",
   "execution_count": null,
   "metadata": {},
   "outputs": [],
   "source": [
    "from thruster_allocator import thruster_positions, thruster_directions, ThrustAllocator\n",
    "import matplotlib.pyplot as plt\n",
    "\n",
    "import numpy as np\n",
    "%reload_ext autoreload\n",
    "%autoreload 2"
   ]
  },
  {
   "cell_type": "markdown",
   "metadata": {},
   "source": [
    "# Thrust Allocator Test"
   ]
  },
  {
   "cell_type": "markdown",
   "metadata": {},
   "source": [
    "## Thruster Positions and Directions"
   ]
  },
  {
   "cell_type": "code",
   "execution_count": null,
   "metadata": {},
   "outputs": [],
   "source": [
    "%matplotlib qt\n",
    "ax = plt.figure().add_subplot(projection=\"3d\")\n",
    "ax.quiver3D(*thruster_positions.T, *thruster_directions.T, length=0.1)\n",
    "ax.scatter(*(0,0,0))\n",
    "ax.set_aspect('equal')"
   ]
  },
  {
   "cell_type": "markdown",
   "metadata": {},
   "source": [
    "## Movement Test"
   ]
  },
  {
   "cell_type": "markdown",
   "metadata": {},
   "source": [
    "### Thrust Newtons"
   ]
  },
  {
   "cell_type": "code",
   "execution_count": null,
   "metadata": {},
   "outputs": [],
   "source": [
    "%matplotlib qt\n",
    "thrustAllocator = ThrustAllocator()\n",
    "outputThrusts = thrustAllocator.getThrusts(\n",
    "    linear_accelerations = [1.0, 0, 0],\n",
    "    angular_accelerations = [0, 0, 0]\n",
    ")\n",
    "\n",
    "ax = plt.figure().add_subplot(projection=\"3d\")\n",
    "ax.quiver3D(*thruster_positions.T, *(outputThrusts[:, None] * thruster_directions).T, length=0.02)\n",
    "ax.scatter(*(0,0,0))\n",
    "ax.set_aspect('equal')"
   ]
  },
  {
   "cell_type": "markdown",
   "metadata": {},
   "source": [
    "### Thrust PWMs"
   ]
  },
  {
   "cell_type": "code",
   "execution_count": null,
   "metadata": {},
   "outputs": [],
   "source": [
    "pwms = thrustAllocator.getThrustPWMs(\n",
    "    linear_accelerations = [0, 0, -3.0],\n",
    "    angular_accelerations = [0, 0, 0]\n",
    ")\n",
    "\n",
    "pwms[np.array([3, 2, 5, 1, 4, 0])]"
   ]
  },
  {
   "cell_type": "markdown",
   "metadata": {},
   "source": [
    "# Thrust Map"
   ]
  },
  {
   "cell_type": "code",
   "execution_count": null,
   "metadata": {},
   "outputs": [],
   "source": [
    "import pandas as pd\n",
    "df = pd.read_csv(\"thrust_map.csv\", header=None)\n",
    "plt.plot(df[1], df[0])\n",
    "df[0].max()"
   ]
  },
  {
   "cell_type": "code",
   "execution_count": null,
   "metadata": {},
   "outputs": [],
   "source": [
    "thrust_map = pd.read_csv(\"thrust_map.csv\").values\n",
    "thrust_converted = thrust_map[\n",
    "    np.searchsorted(thrust_map[:, 1], 172, side=\"left\"), 0\n",
    "].astype(int)\n",
    "thrust_converted"
   ]
  },
  {
   "cell_type": "markdown",
   "metadata": {},
   "source": [
    "# PID Test"
   ]
  },
  {
   "cell_type": "code",
   "execution_count": null,
   "metadata": {},
   "outputs": [],
   "source": [
    "from scipy.integrate import solve_ivp\n",
    "import random\n",
    "import matplotlib.pyplot as plt\n",
    "\n",
    "from PID import PID as PID2\n",
    "\n",
    "%reload_ext autoreload\n",
    "%autoreload 2"
   ]
  },
  {
   "cell_type": "code",
   "execution_count": null,
   "metadata": {},
   "outputs": [],
   "source": [
    "time_interval = 0.1\n",
    "\n",
    "startpoint = 0\n",
    "setpoint = 5\n",
    "\n",
    "myPID = PID2(\n",
    "    Kp=20,\n",
    "    Ki=0,\n",
    "    Kd=21,\n",
    "    sample_time=0.1\n",
    "    )\n",
    "\n",
    "def eval_accel(t, u):\n",
    "    y, v = u\n",
    "    thrust = myPID.compute(setpoint, y)\n",
    "    print(thrust)\n",
    "    accel = constrain(thrust, -4, 4) + random.normalvariate(0, 0.1)\n",
    "    return [v, accel]\n",
    "\n",
    "def constrain(val, low, high):\n",
    "    return min(high, max(low, val))\n",
    "\n",
    "t_span = [0,16]\n",
    "sol = solve_ivp(eval_accel, t_span=t_span, y0=[startpoint,0], atol=10, max_step=time_interval)\n",
    "plt.plot(sol.t, sol.y[0])\n",
    "plt.axhline(setpoint, color='k')\n",
    "plt.axhline(setpoint+0.2, color='r', linestyle='--')\n",
    "plt.axhline(setpoint-0.2, color='r', linestyle='--')"
   ]
  }
 ],
 "metadata": {
  "kernelspec": {
   "display_name": "Python 3",
   "language": "python",
   "name": "python3"
  },
  "language_info": {
   "codemirror_mode": {
    "name": "ipython",
    "version": 3
   },
   "file_extension": ".py",
   "mimetype": "text/x-python",
   "name": "python",
   "nbconvert_exporter": "python",
   "pygments_lexer": "ipython3",
   "version": "3.11.5"
  }
 },
 "nbformat": 4,
 "nbformat_minor": 2
}
