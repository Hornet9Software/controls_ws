{
 "cells": [
  {
   "cell_type": "code",
   "execution_count": null,
   "metadata": {},
   "outputs": [],
   "source": [
    "from thruster_allocator import thruster_positions, thruster_directions, ThrustAllocator\n",
    "import matplotlib.pyplot as plt\n",
    "\n",
    "import numpy as np\n",
    "%reload_ext autoreload\n",
    "%autoreload 2"
   ]
  },
  {
   "cell_type": "markdown",
   "metadata": {},
   "source": [
    "# Thrust Allocator Test"
   ]
  },
  {
   "cell_type": "markdown",
   "metadata": {},
   "source": [
    "## Thruster Positions and Directions"
   ]
  },
  {
   "cell_type": "code",
   "execution_count": null,
   "metadata": {},
   "outputs": [],
   "source": [
    "%matplotlib qt\n",
    "ax = plt.figure().add_subplot(projection=\"3d\")\n",
    "ax.quiver3D(*thruster_positions.T, *thruster_directions.T, length=0.1)\n",
    "ax.scatter(*(0,0,0))\n",
    "ax.set_aspect('equal')"
   ]
  },
  {
   "cell_type": "markdown",
   "metadata": {},
   "source": [
    "## Movement Test"
   ]
  },
  {
   "cell_type": "markdown",
   "metadata": {},
   "source": [
    "### Thrust Newtons"
   ]
  },
  {
   "cell_type": "code",
   "execution_count": null,
   "metadata": {},
   "outputs": [],
   "source": [
    "%matplotlib qt\n",
    "thrustAllocator = ThrustAllocator()\n",
    "outputThrusts = thrustAllocator.getThrusts(\n",
    "    linear_accelerations = [1.0, 0, 0],\n",
    "    angular_accelerations = [0, 0, 0]\n",
    ")\n",
    "\n",
    "ax = plt.figure().add_subplot(projection=\"3d\")\n",
    "ax.quiver3D(*thruster_positions.T, *(outputThrusts[:, None] * thruster_directions).T, length=0.02)\n",
    "ax.scatter(*(0,0,0))\n",
    "ax.set_aspect('equal')"
   ]
  },
  {
   "cell_type": "markdown",
   "metadata": {},
   "source": [
    "### Thrust PWMs"
   ]
  },
  {
   "cell_type": "code",
   "execution_count": null,
   "metadata": {},
   "outputs": [],
   "source": [
    "pwms = thrustAllocator.getThrustPWMs(\n",
    "    linear_accelerations = [0, 0, -3.0],\n",
    "    angular_accelerations = [0, 0, 0]\n",
    ")\n",
    "\n",
    "pwms[np.array([3, 2, 5, 1, 4, 0])]"
   ]
  }
 ],
 "metadata": {
  "kernelspec": {
   "display_name": "Python 3",
   "language": "python",
   "name": "python3"
  },
  "language_info": {
   "codemirror_mode": {
    "name": "ipython",
    "version": 3
   },
   "file_extension": ".py",
   "mimetype": "text/x-python",
   "name": "python",
   "nbconvert_exporter": "python",
   "pygments_lexer": "ipython3",
   "version": "3.11.5"
  }
 },
 "nbformat": 4,
 "nbformat_minor": 2
}
