{
 "cells": [
  {
   "cell_type": "code",
   "execution_count": 53,
   "id": "febc8581-1424-45bf-9ac7-dbd10a2906c9",
   "metadata": {},
   "outputs": [],
   "source": [
    "from scipy.integrate import solve_ivp\n",
    "import numpy as np\n",
    "import matplotlib.pyplot as plt\n",
    "import math"
   ]
  },
  {
   "cell_type": "markdown",
   "id": "ef97a49d-70b5-4af4-8cdf-cdfaf94fe919",
   "metadata": {},
   "source": [
    "# PID"
   ]
  },
  {
   "cell_type": "code",
   "execution_count": 54,
   "id": "4b3ff08a-9936-4d14-89fe-8110d73ffba4",
   "metadata": {},
   "outputs": [],
   "source": [
    "class PID:\n",
    "    def __init__(\n",
    "        self,\n",
    "        Kp=1.0,\n",
    "        Ki=0.0,\n",
    "        Kd=0.0,\n",
    "        bias=0,\n",
    "        integral_max=9999,\n",
    "        sample_time=0.1,\n",
    "    ):\n",
    "        self.kp = Kp\n",
    "        self.ki = Ki\n",
    "        self.kd = Kd\n",
    "        self.bias = bias\n",
    "        self.iMax = integral_max\n",
    "        self.dt = sample_time\n",
    "\n",
    "        self.error = 0\n",
    "        self.integral = 0\n",
    "        self.derivative = 0\n",
    "        self.prevError = 0\n",
    "\n",
    "        self.firstLoop = True\n",
    "\n",
    "    def compute(self, setpoint, process_variable):\n",
    "        self.error = setpoint - process_variable\n",
    "        self.integral += self.error\n",
    "        self.integral = min(max(self.integral, -self.iMax), self.iMax)\n",
    "        self.integral *= self.dt\n",
    "\n",
    "        self.derivative = 0 if self.firstLoop else (self.error - self.prevError)\n",
    "        self.derivative /= self.dt\n",
    "        self.prevError = self.error\n",
    "        self.firstLoop = False\n",
    "\n",
    "        return (\n",
    "            (self.kp * self.error)\n",
    "            + (self.ki * self.integral)\n",
    "            + (self.kd * self.derivative)\n",
    "            + self.bias\n",
    "        )"
   ]
  },
  {
   "cell_type": "markdown",
   "id": "8faeeb16-dff7-4521-b3ff-751b218aab58",
   "metadata": {},
   "source": [
    "# Thrust Allocator"
   ]
  },
  {
   "cell_type": "code",
   "execution_count": 55,
   "id": "84a6698c-8f89-4412-b68f-d86e1de170f5",
   "metadata": {
    "scrolled": true
   },
   "outputs": [
    {
     "name": "stdout",
     "output_type": "stream",
     "text": [
      "/home/advaypakhale/Documents/ros2_ws/src/controls_ws/controls_core\n"
     ]
    }
   ],
   "source": [
    "import os.path\n",
    "from pathlib import Path\n",
    "\n",
    "import numpy as np\n",
    "import pandas as pd\n",
    "from scipy.optimize import lsq_linear\n",
    "\n",
    "# fmt: off\n",
    "thruster_positions = np.array(\n",
    "    [\n",
    "        [-0.22, 0.238, -0.054],     # Front Left\n",
    "        [0.22, 0.238, -0.054],      # Front Right\n",
    "        [-0.234, -0.001, -0.107],   # Middle Left\n",
    "        [0.234, -0.001, -0.107],    # Middle Right\n",
    "        [-0.22, -0.217, -0.054],    # Rear Left\n",
    "        [0.22, -0.217, -0.054],     # Rear Right\n",
    "    ]\n",
    ")\n",
    "\n",
    "thruster_directions = np.array(\n",
    "    [\n",
    "        [1, 1, 0],                  # Front Left\n",
    "        [-1, 1, 0],                 # Front Right\n",
    "        [0, 0, 1],                  # Middle Left\n",
    "        [0, 0, 1],                  # Middle Right\n",
    "        [-1, 1, 0],                 # Rear Left\n",
    "        [1, 1, 0],                  # Rear Right\n",
    "    ]\n",
    ")\n",
    "\n",
    "thruster_biases = np.array([1.0,    # Front Left\n",
    "                            1.0,    # Front Right\n",
    "                            1.0,    # Middle Left\n",
    "                            1.0,    # Middle Right\n",
    "                            1.0,    # Rear Left\n",
    "                            1.0])   # Rear Right\n",
    "# fmt: on\n",
    "\n",
    "thruster_directions = thruster_directions / np.linalg.norm(\n",
    "    thruster_directions, keepdims=True, axis=1\n",
    ")\n",
    "\n",
    "I = np.array([0.205, 0.141, 0.205])\n",
    "\n",
    "rosThrustMapPath = \"src/controls_ws/controls_core/controls_core/thrust_map.csv\"\n",
    "wsThrustMapPath = \"controls_core/thrust_map.csv\"  # For debugging with test.ipynb\n",
    "print(Path.cwd())\n",
    "\n",
    "if os.path.exists(rosThrustMapPath):\n",
    "    thrust_map = pd.read_csv(rosThrustMapPath).values\n",
    "else:\n",
    "    thrust_map = pd.read_csv(wsThrustMapPath).values\n",
    "\n",
    "\n",
    "class ThrustAllocator:\n",
    "    def __init__(\n",
    "        self,\n",
    "        thruster_positions=thruster_positions,\n",
    "        thruster_directions=thruster_directions,\n",
    "        mass=18.0,\n",
    "        I=I,\n",
    "        thrust_map=thrust_map,\n",
    "    ):\n",
    "        self.thruster_positions = thruster_positions\n",
    "        self.thruster_directions = thruster_directions\n",
    "        self.mass = mass\n",
    "        self.I = I\n",
    "        self.thrust_map = thrust_map\n",
    "\n",
    "        self.unit_torque = np.cross(self.thruster_positions, self.thruster_directions)\n",
    "        self.parameters = np.concatenate(\n",
    "            (self.thruster_directions.T, self.unit_torque.T)\n",
    "        )\n",
    "\n",
    "    def getThrusts(self, linear_accelerations, angular_accelerations):\n",
    "        linear_accelerations = np.array(linear_accelerations)\n",
    "        angular_accelerations = np.array(angular_accelerations)\n",
    "\n",
    "        self.expected_force = self.mass * linear_accelerations\n",
    "        self.expected_torque = self.I * angular_accelerations\n",
    "        self.goal = np.concatenate((self.expected_force, self.expected_torque))\n",
    "\n",
    "        THRUSTER_CAP = 0.2\n",
    "\n",
    "        lb = THRUSTER_CAP * np.min(self.thrust_map[:, 0])\n",
    "        ub = THRUSTER_CAP * np.max(self.thrust_map[:, 0])\n",
    "\n",
    "        thrust_newtons = lsq_linear(self.parameters, self.goal, bounds=(lb, ub)).x\n",
    "        return thrust_newtons\n",
    "\n",
    "    def getThrustPWMs(self, linear_accelerations, angular_accelerations):\n",
    "        thrust_newtons = self.getThrusts(linear_accelerations, angular_accelerations)\n",
    "        thrust_biased = thrust_newtons * thruster_biases\n",
    "\n",
    "        thrust_converted = self.thrust_map[\n",
    "            np.searchsorted(self.thrust_map[:, 0], thrust_biased, side=\"left\"), 1\n",
    "        ].astype(int)\n",
    "\n",
    "        return thrust_converted\n"
   ]
  },
  {
   "cell_type": "markdown",
   "id": "25dca3e1-d4c8-4c34-bbb9-f225436147cb",
   "metadata": {},
   "source": [
    "# Setup PIDs"
   ]
  },
  {
   "cell_type": "code",
   "execution_count": 56,
   "id": "8cf811a4-cde5-45ec-8f4f-d3e9da54f5bd",
   "metadata": {},
   "outputs": [],
   "source": [
    "yawPID = PID(Kp=10.0, Ki=0.0, Kd=5.0, sample_time=0.1).compute\n",
    "depthPID = PID(Kp=10.0, Ki=0.0, Kd=10.0, sample_time=0.1).compute"
   ]
  },
  {
   "cell_type": "markdown",
   "id": "f37f70c5-0a3f-4f0d-8637-0f3a3a985e7d",
   "metadata": {},
   "source": [
    "# Other Paramters"
   ]
  },
  {
   "cell_type": "code",
   "execution_count": 57,
   "id": "c5203e44-665c-4bda-b557-2ed7cdd3b27b",
   "metadata": {},
   "outputs": [],
   "source": [
    "DRAG_COEFF = 1\n",
    "DRAG_ON = False\n",
    "MASS = 18.0\n",
    "\n",
    "TIME_SPAN = [0, 20]\n"
   ]
  },
  {
   "cell_type": "markdown",
   "id": "d7a078c6-0ca9-49ad-8b29-49a0c19ebea2",
   "metadata": {},
   "source": [
    "# Initial and Desired Values\n",
    "\n",
    "12 dimensional state $[x, y, z, r, p, y, x', y', z', r', p', y']$"
   ]
  },
  {
   "cell_type": "code",
   "execution_count": 58,
   "id": "29635de7-0389-40a5-90a0-4eae3990d00f",
   "metadata": {},
   "outputs": [],
   "source": [
    "init_state = [0.0, 0.0, 0.0, 0.0, 0.0, math.radians(90.0), 0.0, 0.0, 0.0, 0.0, 0.0, 0.0]\n",
    "target = [0.0, 0.0, -1.0, 0.0, 0.0, 0.0]"
   ]
  },
  {
   "cell_type": "code",
   "execution_count": 51,
   "id": "c9e0c7ae-418f-4e9c-a89a-be179d014428",
   "metadata": {},
   "outputs": [],
   "source": [
    "def f(t, s):\n",
    "    vel = s[6:]\n",
    "    # drag = (DRAG_COEFF/MASS)*(z[1]**2)\n",
    "    az = depthPID(target[2], s[2])\n",
    "    alpha_z = yawPID(target[5], s[5])\n",
    "    acc = [0.0, 0.0, az, 0.0, 0.0, alpha_z]\n",
    "    \n",
    "    if DRAG_ON:\n",
    "        az += drag\n",
    "    return "
   ]
  },
  {
   "cell_type": "code",
   "execution_count": 42,
   "id": "e74d4733-a059-4b6b-9a2f-78f3690d619b",
   "metadata": {},
   "outputs": [],
   "source": [
    "soln = solve_ivp(f, TIME_SPAN, z_0)"
   ]
  },
  {
   "cell_type": "code",
   "execution_count": 43,
   "id": "f88dbbe5-402f-4664-aa78-3900d30a0100",
   "metadata": {},
   "outputs": [
    {
     "data": {
      "text/plain": [
       "[<matplotlib.lines.Line2D at 0x7f2e71ef4f40>]"
      ]
     },
     "execution_count": 43,
     "metadata": {},
     "output_type": "execute_result"
    },
    {
     "data": {
      "image/png": "[encoded data removed]",
      "text/plain": [
       "<Figure size 640x480 with 1 Axes>"
      ]
     },
     "metadata": {},
     "output_type": "display_data"
    }
   ],
   "source": [
    "plt.plot(soln.t, soln.y[0])\n",
    "# plt.ylim(-2, 0)\n",
    "# plt.xlim(0, 1)"
   ]
  },
  {
   "cell_type": "code",
   "execution_count": null,
   "id": "7972f745-45b4-4eac-9967-f8f2c97be296",
   "metadata": {},
   "outputs": [],
   "source": []
  }
 ],
 "metadata": {
  "kernelspec": {
   "display_name": "Python 3 (ipykernel)",
   "language": "python",
   "name": "python3"
  },
  "language_info": {
   "codemirror_mode": {
    "name": "ipython",
    "version": 3
   },
   "file_extension": ".py",
   "mimetype": "text/x-python",
   "name": "python",
   "nbconvert_exporter": "python",
   "pygments_lexer": "ipython3",
   "version": "3.10.12"
  }
 },
 "nbformat": 4,
 "nbformat_minor": 5
}
